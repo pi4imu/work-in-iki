{
  "nbformat": 4,
  "nbformat_minor": 0,
  "metadata": {
    "accelerator": "GPU",
    "colab": {
      "name": "Vega-Ferrero-v.Petr.ipynb",
      "provenance": [],
      "collapsed_sections": [],
      "include_colab_link": true
    },
    "kernelspec": {
      "display_name": "Python 3",
      "language": "python",
      "name": "python3"
    }
  },
  "cells": [
    {
      "cell_type": "markdown",
      "metadata": {
        "id": "view-in-github",
        "colab_type": "text"
      },
      "source": [
        "<a href=\"https://colab.research.google.com/github/pi4imu/work-in-iki/blob/master/Vega_Ferrero_v_Petr.ipynb\" target=\"_parent\"><img src=\"https://colab.research.google.com/assets/colab-badge.svg\" alt=\"Open In Colab\"/></a>"
      ]
    },
    {
      "cell_type": "code",
      "metadata": {
        "colab_type": "code",
        "id": "XwdHcOkXtPrJ",
        "colab": {}
      },
      "source": [
        "import numpy as np\n",
        "from scipy.stats import norm\n",
        "from scipy import integrate\n",
        "import matplotlib.pyplot as plt\n",
        "import pandas as pd\n",
        "\n",
        "from google.colab import files"
      ],
      "execution_count": 0,
      "outputs": []
    },
    {
      "cell_type": "markdown",
      "metadata": {
        "colab_type": "text",
        "id": "M8vHBQ4dmaYD"
      },
      "source": [
        "В текущей задаче интеграл, которому равна вероятность для отдельной модели, будет выглядеть так: $$P(H_0|D) \\propto P(H_0) \\int d \\Delta t \\ d \\mu \\cdot p_{lens} (\\Delta t, \\mu|H_0) \\cdot p_{obs} (\\Delta t, \\mu)$$\n",
        "\n",
        "where (1) $P(H_0)$ is the prior for $H_0$, \n",
        "\n",
        "(2) $p_{lens}(∆t, \\mu)$ is the distribution of time delay and magnification predictions of a given lens model (which can be re-scaled to any alternative value of H0), and \n",
        "\n",
        "(3) $p_{obs}(∆t, \\mu)$ is the ‘observational’ distribution obtained in this work. \n",
        "\n",
        "We assume that for each lens model, $p_{lens}(∆t, \\mu)$ is described with a normal bivariate distribution (with no correlation between $∆t$ and $\\mu$). The mean values and their statistical uncertainties for each image are taken from Table 6 of Treu et al.(2016). Using this approach, we cannot utilize measurements for four images S1-S4 at once to constrain the Hubble parameter, since these images are not independent. Thus, we concentrate on the S2 image as the image with the tightest constraints on the time delay (relative to S1; see Table 4). We include also the SX image since it’s largely independent from S2, even though published data on SX light curve are not enough to place tight constraints. The obtained $P(H_0|D)$ for both S2 and SX for considered here lens models are shown in Figure 12.\n",
        "\n",
        "Note that in fact the lens models do not contribute equally to the average\n",
        "posterior distribution. Models with magnification predictions which disagree with our best-fit values are actually down-weighted (see eq. 1). А каким образом?\n",
        "\n",
        "Contributions of the lens model predictions to $P_+(H0|D)$ obtained as a product of $$p_{lens,i}(∆t_{S2}, \\mu_{S2}|H0) \\times p_{lens,i}(∆t_{SX}, \\mu_{SX}|H0)$$ are shown in Figure 12 (left panel).\n"
      ]
    },
    {
      "cell_type": "markdown",
      "metadata": {
        "colab_type": "text",
        "id": "mVWOsKSytPv0"
      },
      "source": [
        "Определим несимметричную гауссиану и нормируем её (внимание, возможно, придётся менять пределы интегрирования при подсчёте площади):"
      ]
    },
    {
      "cell_type": "code",
      "metadata": {
        "colab_type": "code",
        "id": "9f3scBiMtPv-",
        "colab": {}
      },
      "source": [
        "def nonsym_gauss(x, mean, sigma_left, sigma_right):       #поточечно\n",
        "    \n",
        "    pdf = 0\n",
        "        \n",
        "    if x >= mean:\n",
        "        pdf = np.exp( - (x - mean)**2/2/sigma_right**2 )\n",
        "    else:\n",
        "        pdf = np.exp( - (x - mean)**2/2/sigma_left**2 )\n",
        "    \n",
        "    area_left  =  integrate.quad(lambda t: np.exp( - (t - mean)**2/2/sigma_left**2 ), 0,    mean)\n",
        "    area_right =  integrate.quad(lambda t: np.exp( - (t - mean)**2/2/sigma_right**2 ), mean, 1000)\n",
        "    \n",
        "    area = area_left[0] + area_right[0]\n",
        "    \n",
        "    return pdf/area "
      ],
      "execution_count": 0,
      "outputs": []
    },
    {
      "cell_type": "markdown",
      "metadata": {
        "colab_type": "text",
        "id": "GiEGl6T_DezO"
      },
      "source": [
        "Запишем временную задержку и усиление SX/S1 и S2/S1 из наблюдательных данных (нескоррелированных) в модели Петра:"
      ]
    },
    {
      "cell_type": "code",
      "metadata": {
        "colab_type": "code",
        "id": "qG9K8eqFDprF",
        "colab": {}
      },
      "source": [
        "dt_X1_data =             [315.3] #среднее\n",
        "sigma_right_dt_X1_data = [59.4] #погрешность справа\n",
        "sigma_left_dt_X1_data =  [84.1] #погрешность слева\n",
        "\n",
        "mu_X1_data =             [0.2 ] \n",
        "sigma_right_mu_X1_data = [0.13] \n",
        "sigma_left_mu_X1_data =  [0.06] \n",
        "\n",
        "dt_21_data =             [9.6] \n",
        "sigma_right_dt_21_data = [2.0] \n",
        "sigma_left_dt_21_data =  [2.2] \n",
        "\n",
        "mu_21_data =             [1.14] \n",
        "sigma_right_mu_21_data = [0.02] \n",
        "sigma_left_mu_21_data =  [0.02] "
      ],
      "execution_count": 0,
      "outputs": []
    },
    {
      "cell_type": "markdown",
      "metadata": {
        "colab_type": "text",
        "id": "jevRS_cQtPvN"
      },
      "source": [
        "Данные моделей из Treu et al.(2015):"
      ]
    },
    {
      "cell_type": "code",
      "metadata": {
        "colab_type": "code",
        "id": "pH7Av33BtPvX",
        "colab": {}
      },
      "source": [
        "names =  ['Gri-g',   'Ogu-g', 'Ogu-a', 'Sha-a', 'Sha-g']\n",
        "colors = ['orange',  'blue',  'green', 'black', 'indigo']\n",
        "\n",
        "dt_X1_model =             [361, 311, 336, 233, 277] #среднее\n",
        "sigma_right_dt_X1_model = [ 19,  24,  21,  46,  11] #погрешность справа\n",
        "sigma_left_dt_X1_model =  [ 27,  24,  21,  13,  21] #погрешность слева\n",
        "\n",
        "mu_X1_model =             [0.36, 0.27, 0.27, 0.19, 0.25] \n",
        "sigma_right_mu_X1_model = [0.11, 0.05, 0.03, 0.01, 0.05] \n",
        "sigma_left_mu_X1_model =  [0.09, 0.05, 0.03, 0.04, 0.02] \n",
        "\n",
        "dt_21_model =             [10.6,  8.7,  9.4,  8,  6] \n",
        "sigma_right_dt_21_model = [ 6.2,  0.7,  1.1,  7,  6] \n",
        "sigma_left_dt_21_model =  [ 3.0,  0.7,  1.1,  5,  5] \n",
        "\n",
        "mu_21_model =             [0.92, 1.14, 1.15, 0.84, 0.84] \n",
        "sigma_right_mu_21_model = [0.43, 0.24, 0.17, 0.20, 0.18] \n",
        "sigma_left_mu_21_model =  [0.52, 0.24, 0.17, 0.19, 0.06] "
      ],
      "execution_count": 0,
      "outputs": []
    },
    {
      "cell_type": "markdown",
      "metadata": {
        "colab_type": "text",
        "id": "4OCpjopDtPw5"
      },
      "source": [
        "Проинтегрируем всё вместе:"
      ]
    },
    {
      "cell_type": "code",
      "metadata": {
        "colab_type": "code",
        "id": "4C-Jb8H-tPxg",
        "colab": {}
      },
      "source": [
        "#from tqdm import tqdm #модуль, иллюстрирующий прогресс\n",
        "\n",
        "H_0_fid = 70. #km/s/Mpc\n",
        "H_0s = np.linspace(10, 150, 71)\n",
        "\n",
        "PDFs = np.zeros((len(names), len(H_0s)))\n",
        "\n",
        "for i in range(0, len(names)):\n",
        "\n",
        "    P_prom = []\n",
        "        \n",
        "    for j in range(0, len(H_0s)):#, desc=names[i]):\n",
        "        \n",
        "        P_H_0 = 1./len(H_0s)\n",
        "\n",
        "        # x - время, y - усиление\n",
        "        \n",
        "        int = integrate.nquad(lambda x, y: nonsym_gauss(x, dt_X1_data[0], sigma_left_dt_X1_data[0], sigma_right_dt_X1_data[0]) *   #наблюдательные данные\n",
        "                                           \n",
        "                                nonsym_gauss(y, mu_X1_data[0], sigma_left_mu_X1_data[0], sigma_right_mu_X1_data[0]) * \n",
        "                              \n",
        "                                nonsym_gauss(x, (H_0_fid/H_0s[j])*dt_X1_model[i],                              #данные из моделей\n",
        "                                             sigma_left_dt_X1_model[i], sigma_right_dt_X1_model[i]) *\n",
        "                              \n",
        "                                nonsym_gauss(y, mu_X1_model[i], \n",
        "                                             sigma_left_mu_X1_model[i], sigma_right_mu_X1_model[i]),\n",
        "                                \n",
        "                                [[0, 500], [0, 1]] )\n",
        "        \n",
        "        \n",
        "        print(names[i], round(j/len(H_0s), 2), 'H_0 = ', H_0s[j], 'int =', int[0])\n",
        "\n",
        "        PDFs[i][j] = P_H_0 * int[0]"
      ],
      "execution_count": 0,
      "outputs": []
    },
    {
      "cell_type": "markdown",
      "metadata": {
        "colab_type": "text",
        "id": "BbuSpKmwp8tc"
      },
      "source": [
        "Сохраним полученные значения в файл (если работа осуществляется не из google colab, то надо закомментить последние две строчки):"
      ]
    },
    {
      "cell_type": "code",
      "metadata": {
        "colab_type": "code",
        "id": "hzu12fJktPx9",
        "colab": {}
      },
      "source": [
        "spisok = pd.DataFrame(data3).to_csv('Petr_X1_PDFs.csv', index=False)\n",
        "\n",
        "files.download('Petr_X1_PDFs.csv')"
      ],
      "execution_count": 0,
      "outputs": []
    },
    {
      "cell_type": "markdown",
      "metadata": {
        "colab_type": "text",
        "id": "6o-EClRIqc4l"
      },
      "source": [
        "Подгрузим старые значения (если они уже есть):"
      ]
    },
    {
      "cell_type": "code",
      "metadata": {
        "colab_type": "code",
        "id": "7LggbBwCqajZ",
        "outputId": "db47e386-3610-41d2-b481-c4b1d87b4229",
        "colab": {
          "resources": {
            "http://localhost:8080/nbextensions/google.colab/files.js": {
              "data": "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",
              "ok": true,
              "headers": [
                [
                  "content-type",
                  "application/javascript"
                ]
              ],
              "status": 200,
              "status_text": ""
            }
          },
          "base_uri": "https://localhost:8080/",
          "height": 74
        }
      },
      "source": [
        "uploaded = files.upload()"
      ],
      "execution_count": 12,
      "outputs": [
        {
          "output_type": "display_data",
          "data": {
            "text/html": [
              "\n",
              "     <input type=\"file\" id=\"files-0c367d40-baac-4d3f-8deb-a8f29e001d0a\" name=\"files[]\" multiple disabled />\n",
              "     <output id=\"result-0c367d40-baac-4d3f-8deb-a8f29e001d0a\">\n",
              "      Upload widget is only available when the cell has been executed in the\n",
              "      current browser session. Please rerun this cell to enable.\n",
              "      </output>\n",
              "      <script src=\"/nbextensions/google.colab/files.js\"></script> "
            ],
            "text/plain": [
              "<IPython.core.display.HTML object>"
            ]
          },
          "metadata": {
            "tags": []
          }
        },
        {
          "output_type": "stream",
          "text": [
            "Saving Petr_21_PDFs (2).csv to Petr_21_PDFs (2).csv\n"
          ],
          "name": "stdout"
        }
      ]
    },
    {
      "cell_type": "code",
      "metadata": {
        "colab_type": "code",
        "id": "MQ1UvgTnq3im",
        "colab": {}
      },
      "source": [
        "dataX = pd.read_csv('Petr_X1_PDFs (1).csv').to_numpy()\n",
        "data2 = pd.read_csv('Petr_21_PDFs (2).csv').to_numpy()"
      ],
      "execution_count": 0,
      "outputs": []
    },
    {
      "cell_type": "code",
      "metadata": {
        "id": "RlB7wDJJ90Jp",
        "colab_type": "code",
        "colab": {}
      },
      "source": [
        "data_mult = np.zeros((len(names), len(H_0s)))\n",
        "\n",
        "for i in range(len(names)):\n",
        "    data_mult[i] = dataX[i] * data2[i]\n",
        "\n",
        "#data_mult"
      ],
      "execution_count": 0,
      "outputs": []
    },
    {
      "cell_type": "code",
      "metadata": {
        "colab_type": "code",
        "id": "wdXLSXVOtPya",
        "outputId": "d5cf94b2-2168-4d54-ba42-a92c52dc4003",
        "colab": {
          "base_uri": "https://localhost:8080/",
          "height": 415
        }
      },
      "source": [
        "fig = plt.figure(figsize=(8,6))\n",
        "\n",
        "H_0s = np.linspace(10, 150, 71)\n",
        "\n",
        "for i in range(0, len(names)):\n",
        "\n",
        "    plt.plot(H_0s, data2[i][0:], label = names[i], color=colors[i])\n",
        "    plt.legend()\n",
        "    plt.title('$p_{lens,i}(∆t_{S2}, \\mu_{S2}|H0)$')\n",
        "    plt.xlabel('$H_0, km/s/Mpc$', fontsize=15)\n",
        "    plt.ylabel('P($H_0$|D)', fontsize=15)\n",
        "\n",
        "#plt.axvline(H_0s[np.argmax(PDFs[-1])], color='black', linestyle='--')    \n",
        "plt.grid()\n",
        "plt.show()"
      ],
      "execution_count": 154,
      "outputs": [
        {
          "output_type": "display_data",
          "data": {
            "image/png": "[encoded data removed]",
            "text/plain": [
              "<Figure size 576x432 with 1 Axes>"
            ]
          },
          "metadata": {
            "tags": []
          }
        }
      ]
    },
    {
      "cell_type": "markdown",
      "metadata": {
        "colab_type": "text",
        "id": "BL7MqanHtPzK"
      },
      "source": [
        "Определим функцию, которая возвращает индексы элементов, соответствующих границам интервала в 68%, вдоль горизонтальной оси:"
      ]
    },
    {
      "cell_type": "code",
      "metadata": {
        "colab_type": "code",
        "id": "md9wqPiotPzS",
        "colab": {}
      },
      "source": [
        "def f1sb(xs, distribution, percents, plot, Print): #find 1 sigma borders\n",
        "    \n",
        "    area = sum(distribution)*np.diff(xs)[0]\n",
        "    pdf = distribution/area\n",
        "    cdf = np.cumsum(pdf)*np.diff(H_0s)[0]\n",
        "\n",
        "    #leftb_perc = (1-percents)/2.\n",
        "    #rightb_perc = 1-leftb_perc\n",
        "    \n",
        "    #middle_ind = np.argmin( np.abs(cdf - .5) )\n",
        "    \n",
        "    middle_ind = np.argmax(distribution)\n",
        "\n",
        "    difference = 100\n",
        "    \n",
        "    for ind in range(0, middle_ind):\n",
        "        \n",
        "        rind = np.argmin( np.abs( cdf - (cdf[ind] + percents) ) )\n",
        "        \n",
        "        difference1 = np.abs( distribution[ind] - distribution[rind] )\n",
        "\n",
        "        if difference1 <= difference:\n",
        "            difference = difference1\n",
        "\n",
        "            left_ind = ind\n",
        "            right_ind = rind\n",
        "\n",
        "    leftb_perc = cdf[left_ind]\n",
        "    rightb_perc = cdf[right_ind]\n",
        "    \n",
        "    #left_ind = np.argmin(np.abs(cdf - leftb_perc))\n",
        "    #right_ind = np.argmin( np.abs(cdf - rightb_perc) )\n",
        "    \n",
        "    if plot == True:\n",
        "        \n",
        "        plt.plot(H_0s, cdf, 'r:')\n",
        "        \n",
        "        plt.axhline(leftb_perc, color='m')\n",
        "        plt.axhline(rightb_perc, color='m')\n",
        "\n",
        "        plt.axvline(H_0s[left_ind],  color='g', linestyle = '--')\n",
        "        plt.axvline(H_0s[right_ind], color='g', linestyle = '--')\n",
        "        plt.axvline(H_0s[middle_ind],color='g')\n",
        "    \n",
        "    if Print == True:\n",
        "        print('middle index =',middle_ind)\n",
        "        print('left index =', left_ind)\n",
        "        print('right index =', right_ind)\n",
        "        print()\n",
        "        print('Mean: H_0=', H_0s[middle_ind])\n",
        "        print('Left border: H_0 =', H_0s[left_ind])\n",
        "        print('Right border: H_0 =', H_0s[right_ind])\n",
        "        print('Left sigma =', H_0s[middle_ind] - H_0s[left_ind])\n",
        "        print('Right sigma =', H_0s[right_ind] - H_0s[middle_ind])\n",
        "\n",
        "    return middle_ind, left_ind, right_ind"
      ],
      "execution_count": 0,
      "outputs": []
    },
    {
      "cell_type": "markdown",
      "metadata": {
        "colab_type": "text",
        "id": "qIGCVQFctPzw"
      },
      "source": [
        "Отдельно перемножим и сложим получившиеся вероятности:"
      ]
    },
    {
      "cell_type": "code",
      "metadata": {
        "colab_type": "code",
        "id": "pmldN-1dtPz2",
        "colab": {}
      },
      "source": [
        "P_sum = np.zeros(len(H_0s))\n",
        "\n",
        "for i in range(0, len(names)):\n",
        "    #print(P_mult)\n",
        "    P_sum = P_sum + data_mult[i]/(len(names))\n",
        "\n",
        "midind, leftind, rightind =  f1sb(H_0s, P_sum, .68, plot=0, Print=0)\n",
        "\n",
        "P_sum_mean        = round(H_0s[midind], 1)\n",
        "sigma_P_sum_left  = round(H_0s[midind] - H_0s[leftind], 1)  \n",
        "sigma_P_sum_right = round(H_0s[rightind] - H_0s[midind], 1)\n",
        "\n",
        "#left = np.quantile(P_sum, 0.16)\n",
        "\n",
        "#plt.plot(H_0s, P_sum)\n",
        "#plt.hist(P_sum, density=1)"
      ],
      "execution_count": 0,
      "outputs": []
    },
    {
      "cell_type": "code",
      "metadata": {
        "colab_type": "code",
        "id": "lvkBHiEFtP0S",
        "outputId": "9ecff6b8-4b45-41bb-a7de-18690060886b",
        "colab": {
          "base_uri": "https://localhost:8080/",
          "height": 466
        }
      },
      "source": [
        "print('For P_+(H_0|D):')\n",
        "print('H_0 =', P_sum_mean, '+', sigma_P_sum_right, '-', sigma_P_sum_left, '(program)')\n",
        "print('H_0 = 71.2 + 16.7 - 11.6 (Petr)')\n",
        "\n",
        "fig = plt.figure(figsize=(8,6))\n",
        "\n",
        "plt.grid()\n",
        "plt.xlabel('$H_0, km/s/Mpc$', fontsize=15)\n",
        "plt.ylabel('P($H_0$|D)', fontsize=15)\n",
        "plt.title('Total posterior $P_+(H_0|D)$')\n",
        "\n",
        "plt.plot(H_0s, P_sum)#, label = '$P_+(H_0|D)$', linestyle='--')\n",
        "\n",
        "plt.scatter(P_sum_mean, 1.1*P_sum[np.argmax(P_sum)])\n",
        "plt.errorbar(P_sum_mean, 1.1*P_sum[np.argmax(P_sum)], 0, [[sigma_P_sum_left], [sigma_P_sum_right]], capsize=5)\n",
        "\n",
        "plt.vlines(P_sum_mean - sigma_P_sum_left, linestyle = '--',  color = 'r',\n",
        "           ymin=0, ymax = P_sum[leftind])\n",
        "\n",
        "plt.vlines(P_sum_mean, linestyle = '--',  color = 'r', ymin=0, ymax=P_sum[midind] )\n",
        "plt.vlines(P_sum_mean + sigma_P_sum_right, linestyle = '--',  color = 'r',\n",
        "          ymin=0, ymax = P_sum[rightind])\n",
        "\n",
        "plt.show()"
      ],
      "execution_count": 159,
      "outputs": [
        {
          "output_type": "stream",
          "text": [
            "For P_+(H_0|D):\n",
            "H_0 = 72.0 + 14.0 - 10.0 (program)\n",
            "H_0 = 71.2 + 16.7 - 11.6 (Petr)\n"
          ],
          "name": "stdout"
        },
        {
          "output_type": "display_data",
          "data": {
            "image/png": "[encoded data removed]",
            "text/plain": [
              "<Figure size 576x432 with 1 Axes>"
            ]
          },
          "metadata": {
            "tags": []
          }
        }
      ]
    },
    {
      "cell_type": "code",
      "metadata": {
        "colab_type": "code",
        "id": "9vMeP54ctP0m",
        "colab": {
          "base_uri": "https://localhost:8080/",
          "height": 34
        },
        "outputId": "32389aa9-0023-431c-ddec-65f9cd4612f9"
      },
      "source": [
        "area = sum(P_sum)*np.diff(H_0s)[0]\n",
        "\n",
        "area_left = sum(P_sum[0:midind])*np.diff(H_0s)[0]\n",
        "area_right = area - area_left\n",
        "\n",
        "area_l = sum(P_sum[0:leftind])*np.diff(H_0s)[0]\n",
        "area_r = sum(P_sum[0:rightind])*np.diff(H_0s)[0]\n",
        "\n",
        "all = area_left, area_right, area_l, area_r, area_r-area_l\n",
        "\n",
        "all/area"
      ],
      "execution_count": 160,
      "outputs": [
        {
          "output_type": "execute_result",
          "data": {
            "text/plain": [
              "array([0.36695651, 0.63304349, 0.10457508, 0.78097259, 0.67639751])"
            ]
          },
          "metadata": {
            "tags": []
          },
          "execution_count": 160
        }
      ]
    },
    {
      "cell_type": "code",
      "metadata": {
        "colab_type": "code",
        "id": "TXj3w0Q7tP06",
        "colab": {}
      },
      "source": [
        "\n"
      ],
      "execution_count": 0,
      "outputs": []
    },
    {
      "cell_type": "code",
      "metadata": {
        "colab_type": "code",
        "id": "RTx9jo4_tP1Q",
        "colab": {}
      },
      "source": [
        ""
      ],
      "execution_count": 0,
      "outputs": []
    },
    {
      "cell_type": "code",
      "metadata": {
        "colab_type": "code",
        "id": "gWLPu1HYtP1i",
        "colab": {}
      },
      "source": [
        ""
      ],
      "execution_count": 0,
      "outputs": []
    },
    {
      "cell_type": "code",
      "metadata": {
        "colab_type": "code",
        "id": "NZCNENS5tP15",
        "colab": {}
      },
      "source": [
        ""
      ],
      "execution_count": 0,
      "outputs": []
    },
    {
      "cell_type": "code",
      "metadata": {
        "colab_type": "code",
        "id": "3FYn01rhtP2J",
        "colab": {}
      },
      "source": [
        ""
      ],
      "execution_count": 0,
      "outputs": []
    },
    {
      "cell_type": "code",
      "metadata": {
        "colab_type": "code",
        "id": "DgIRRMEptP2e",
        "colab": {}
      },
      "source": [
        ""
      ],
      "execution_count": 0,
      "outputs": []
    }
  ]
}