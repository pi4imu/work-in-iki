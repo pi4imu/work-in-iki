{
  "nbformat": 4,
  "nbformat_minor": 0,
  "metadata": {
    "kernelspec": {
      "display_name": "Python 3",
      "language": "python",
      "name": "python3"
    },
    "language_info": {
      "codemirror_mode": {
        "name": "ipython",
        "version": 3
      },
      "file_extension": ".py",
      "mimetype": "text/x-python",
      "name": "python",
      "nbconvert_exporter": "python",
      "pygments_lexer": "ipython3",
      "version": "3.7.3"
    },
    "colab": {
      "name": "Vega-Ferrero-v.3.ipynb",
      "provenance": [],
      "collapsed_sections": [],
      "include_colab_link": true
    }
  },
  "cells": [
    {
      "cell_type": "markdown",
      "metadata": {
        "id": "view-in-github",
        "colab_type": "text"
      },
      "source": [
        "<a href=\"https://colab.research.google.com/github/pi4imu/work-in-iki/blob/master/Vega_Ferrero_v_3.ipynb\" target=\"_parent\"><img src=\"https://colab.research.google.com/assets/colab-badge.svg\" alt=\"Open In Colab\"/></a>"
      ]
    },
    {
      "cell_type": "code",
      "metadata": {
        "id": "XwdHcOkXtPrJ",
        "colab_type": "code",
        "colab": {}
      },
      "source": [
        "import numpy as np\n",
        "from scipy.stats import norm\n",
        "from scipy import integrate\n",
        "import matplotlib.pyplot as plt"
      ],
      "execution_count": 0,
      "outputs": []
    },
    {
      "cell_type": "markdown",
      "metadata": {
        "id": "wAmlV2aItPsI",
        "colab_type": "text"
      },
      "source": [
        "Для начала посмотрим на формулу (5) из нашей статьи: $$P(H_0|D) \\propto P(H_0) \\int d \\Delta t_{X1} d \\mu_{X1} p_m (\\Delta t_{X1}, \\mu_{X1}|H_0, G) \\cdot p_d (\\Delta t_{X1}, \\mu_{X1}|LC)$$\n",
        "Разберём её по порядку (но сразу отметим, что обе вероятности под интегралом нормированы на единицу): \n",
        "\n",
        "1) $P(H_0)$ - априорная вероятность (credibility) того, что постоянная Хаббла примет такое значение. В этой работе указано: \"Hereafter, we assume a very conservaive UNIFORM prior $P(H_0)$ between $H_0 = 30 \\ and \\ 100 \\ km \\ s^{-1} \\ Mpc^{-1}$\". То есть, эта величина постоянна.\n",
        "\n",
        "2) $p_m (\\Delta t_{X1}, \\mu_{X1}|H_0, G)$ - распределение вероятности для каждой из моделей (\"For each individuallens model, we adopt a bivariate but separable normal distribution\")."
      ]
    },
    {
      "cell_type": "markdown",
      "metadata": {
        "id": "gWImVnAytPsk",
        "colab_type": "text"
      },
      "source": [
        "Указанная выше вероятность $p_m (\\Delta t_{X1}, \\mu_{X1}|H_0, G)$ равна произведению вероятностей p_dt_model и p_mu_model, но, так как указанный выше интеграл можно будет свести к двум одномерным, мы пока не будем усложнять код. Отметим пока супер-важную вещь: нам необходимо поменять аргумент вероятности, связанной с $\\Delta t$, так как все модели предполагают, что $H_0 = 70 \\ km \\ s^{-1} \\ Mpc^{-1}$."
      ]
    },
    {
      "cell_type": "markdown",
      "metadata": {
        "id": "RTs-CwEBtPsv",
        "colab_type": "text"
      },
      "source": [
        "3) $p_d (\\Delta t_{X1}, \\mu_{X1}|LC)$ - вероятность, основанная на наблюдательных данных. Она не зависит от $H_0$. \"For the observational data, we associate a bivariate normal distribution, based on the best-fit ellipse to the 68% CL (confidence level) in Figure 3 of Kelly et al. (2016a)\". Идём в эту статью, смотрим на упомянутый \"эллипс\" (который на самом деле является вытянутым и изогнутым)."
      ]
    },
    {
      "cell_type": "markdown",
      "metadata": {
        "id": "FWTkoQ-ztPs7",
        "colab_type": "text"
      },
      "source": [
        "Попробуем подобрать параметры этого эллипса:"
      ]
    },
    {
      "cell_type": "code",
      "metadata": {
        "id": "m4aNK-KjtPtK",
        "colab_type": "code",
        "outputId": "d9e140a8-4c46-4bd5-d9e1-b6cbbede3da7",
        "colab": {
          "base_uri": "https://localhost:8080/",
          "height": 487
        }
      },
      "source": [
        "from scipy.stats import multivariate_normal\n",
        "\n",
        "x, y = np.mgrid[200:400:1, 0.1:0.4:0.01]\n",
        "pos = np.dstack((x,y))\n",
        "\n",
        "means = [356, 0.28]\n",
        "sigmas = [34, 0.11]\n",
        "rho = 0.93 #коэффициент корреляции\n",
        "cov = [ [sigmas[0]**2, rho*sigmas[0]*sigmas[1]],[rho*sigmas[0]*sigmas[1],sigmas[1]**2] ]\n",
        "\n",
        "rv = multivariate_normal(means, cov)\n",
        "\n",
        "import matplotlib.image as mpimg\n",
        "\n",
        "fig = plt.figure(figsize=(6,8))\n",
        "\n",
        "#img = mpimg.imread('kellyetal.jpg')\n",
        "\n",
        "ax = fig.add_subplot(111)\n",
        "\n",
        "#ax.imshow(img, extent=[200, 400, 0.1, 0.4], aspect = 1000)\n",
        "\n",
        "ax.contourf(x,y, rv.pdf(pos), 2, alpha=0.7)\n",
        "\n",
        "ax.axvline(300, color='red'); ax.axvline(380, color='red')\n",
        "ax.axhline(0.18, color='red'); ax.axhline(0.38, color='red')\n",
        "\n",
        "plt.show()"
      ],
      "execution_count": 0,
      "outputs": [
        {
          "output_type": "display_data",
          "data": {
            "image/png": "[encoded data removed]",
            "text/plain": [
              "<Figure size 432x576 with 1 Axes>"
            ]
          },
          "metadata": {
            "tags": []
          }
        }
      ]
    },
    {
      "cell_type": "code",
      "metadata": {
        "id": "thVCFmv9tPt1",
        "colab_type": "code",
        "colab": {}
      },
      "source": [
        "dt_X1_data = means[0]\n",
        "sigma_dt_X1_data = sigmas[0]\n",
        "\n",
        "mu_X1_data = means[1]\n",
        "sigma_mu_X1_data = sigmas[1]"
      ],
      "execution_count": 0,
      "outputs": []
    },
    {
      "cell_type": "code",
      "metadata": {
        "id": "rjuMcdpmtPub",
        "colab_type": "code",
        "outputId": "901fad77-17d1-4bc2-eaa5-a29c3b4481f4",
        "colab": {
          "base_uri": "https://localhost:8080/",
          "height": 85
        }
      },
      "source": [
        "print('DATA:')\n",
        "print(\"Delta t =\", means[0], \"+-\", sigmas[0])\n",
        "print(\"mu =\", means[1], \"+-\", sigmas[1])\n",
        "print('rho =', rho)"
      ],
      "execution_count": 0,
      "outputs": [
        {
          "output_type": "stream",
          "text": [
            "DATA:\n",
            "Delta t = 356 +- 34\n",
            "mu = 0.28 +- 0.11\n",
            "rho = 0.93\n"
          ],
          "name": "stdout"
        }
      ]
    },
    {
      "cell_type": "markdown",
      "metadata": {
        "id": "n4swKGcctPvC",
        "colab_type": "text"
      },
      "source": [
        "$$ p_d (\\Delta t_{X1}, \\mu_{X1}|LC) = \\frac{1}{(\\sqrt{2\\pi})^2\\sigma_{\\Delta t}\\sigma_{\\mu} \\sqrt{1-\\rho^2}} \\exp\\Big( - \\frac{1}{2} Q(\\Delta t_{X1} - {\\Delta t}_{mean}, \\mu_{X1} - {\\mu}_{mean}) \\Big),$$\n",
        "\n",
        "$$Q(y_1,y_2)=\\frac{1}{1-\\rho^2} \\Big(\\frac{y_1^2}{\\sigma_1^2} - 2\\rho \\frac{y_1y_2}{\\sigma_1\\sigma_2} + \\frac{y_2^2}{\\sigma_2^2} \\Big)$$\n"
      ]
    },
    {
      "cell_type": "markdown",
      "metadata": {
        "id": "jevRS_cQtPvN",
        "colab_type": "text"
      },
      "source": [
        "Данные моделей:"
      ]
    },
    {
      "cell_type": "code",
      "metadata": {
        "id": "pH7Av33BtPvX",
        "colab_type": "code",
        "colab": {}
      },
      "source": [
        "names =  ['Die-16',     'Die-a',   'Gri-g',   'Ogu-g', 'Ogu-a', 'Sha-a', 'Sha-g',  'Petr']\n",
        "colors = ['sandybrown', 'magenta', 'orange',  'blue',  'green', 'black', 'indigo', 'red']\n",
        "\n",
        "dt_X1_model =             [376, 262, 361, 311, 336, 233, 277, 316] #среднее\n",
        "sigma_right_dt_X1_model = [ 25,  55,  19,  24,  21,  46,  11,  59] #погрешность справа\n",
        "sigma_left_dt_X1_model =  [ 25,  55,  27,  24,  21,  13,  21,  84] #погрешность слева\n",
        "\n",
        "mu_X1_model =             [0.30, 0.31, 0.36, 0.27, 0.27, 0.19, 0.25, 0.21] #среднее\n",
        "sigma_right_mu_X1_model = [0.05, 0.10, 0.11, 0.05, 0.03, 0.01, 0.05, 0.12] #погрешность справа\n",
        "sigma_left_mu_X1_model =  [0.05, 0.10, 0.09, 0.05, 0.03, 0.04, 0.02, 0.06] #погрешность слева"
      ],
      "execution_count": 0,
      "outputs": []
    },
    {
      "cell_type": "markdown",
      "metadata": {
        "id": "mVWOsKSytPv0",
        "colab_type": "text"
      },
      "source": [
        "Определим несимметричную гауссиану и нормируем её (внимание, возможно, придётся менять пределы интегрирования при подсчёте площади):"
      ]
    },
    {
      "cell_type": "code",
      "metadata": {
        "id": "9f3scBiMtPv-",
        "colab_type": "code",
        "colab": {}
      },
      "source": [
        "def nonsym_gauss(x, mean, sigma_left, sigma_right):       #поточечно\n",
        "    \n",
        "    pdf = 0\n",
        "        \n",
        "    if x >= mean:\n",
        "        pdf = np.exp( - (x - mean)**2/2/sigma_right**2 )\n",
        "    else:\n",
        "        pdf = np.exp( - (x - mean)**2/2/sigma_left**2 )\n",
        "    \n",
        "    area_left  =  integrate.quad(lambda t: np.exp( - (t - mean)**2/2/sigma_left**2 ), 0,    mean)\n",
        "    area_right =  integrate.quad(lambda t: np.exp( - (t - mean)**2/2/sigma_right**2 ), mean, 1000)\n",
        "    \n",
        "    area = area_left[0] + area_right[0]\n",
        "    \n",
        "    return pdf/area "
      ],
      "execution_count": 0,
      "outputs": []
    },
    {
      "cell_type": "code",
      "metadata": {
        "id": "uuCmdcZwtPwe",
        "colab_type": "code",
        "outputId": "4a8dd311-b148-4e45-8912-c22bbca16fc2",
        "colab": {
          "base_uri": "https://localhost:8080/",
          "height": 265
        }
      },
      "source": [
        "xs = np.linspace(0, 500, 501)\n",
        "\n",
        "pdf=np.zeros(len(xs))\n",
        "\n",
        "for i in range(0, len(xs)):\n",
        "    pdf[i] = nonsym_gauss(xs[i], dt_X1_model[-2], sigma_left_dt_X1_model[-2], sigma_right_dt_X1_model[-2])\n",
        "\n",
        "plt.plot(xs, pdf)\n",
        "plt.show()\n",
        "\n",
        "#print((xs.max()-xs.min())/(len(xs)-1), np.diff(xs))\n",
        "\n",
        "#print(sum(pdf)*np.diff(xs)[0])"
      ],
      "execution_count": 0,
      "outputs": [
        {
          "output_type": "display_data",
          "data": {
            "image/png": "[encoded data removed]",
            "text/plain": [
              "<Figure size 432x288 with 1 Axes>"
            ]
          },
          "metadata": {
            "tags": []
          }
        }
      ]
    },
    {
      "cell_type": "markdown",
      "metadata": {
        "id": "4OCpjopDtPw5",
        "colab_type": "text"
      },
      "source": [
        "Умножаем $p_d (\\Delta t_{X1}, \\mu_{X1}|LC)$ на нормальные распределения с параметрами из модели и всё это интегрируем."
      ]
    },
    {
      "cell_type": "code",
      "metadata": {
        "id": "kgVbiYU-tPxB",
        "colab_type": "code",
        "colab": {}
      },
      "source": [
        "#def binormal(x, y, m_x, m_y, s_x, s_y, ro):\n",
        "#    return 1/2/np.pi/s_x/s_y/np.sqrt(1-ro**2) * np.exp( - 1/2/(1-ro**2) * ( (x - m_x)**2/s_x**2 - 2*ro* x*y/s_x/s_y + (y - m_y)**2/s_y**2 ) )"
      ],
      "execution_count": 0,
      "outputs": []
    },
    {
      "cell_type": "code",
      "metadata": {
        "id": "4C-Jb8H-tPxg",
        "colab_type": "code",
        "outputId": "b96f5269-dbfa-4895-b12e-c22a6903f7da",
        "colab": {
          "base_uri": "https://localhost:8080/",
          "height": 1000
        }
      },
      "source": [
        "H_0_fid = 70. #km/s/Mpc\n",
        "H_0s = np.linspace(30, 100, 71)\n",
        "\n",
        "PDFs = np.zeros((len(names), len(H_0s)))\n",
        "\n",
        "for i in range(0, len(names)-1):\n",
        "\n",
        "    P_prom = []\n",
        "    \n",
        "    for j in range(0, len(H_0s)):\n",
        "        \n",
        "        P_H_0 = 1./len(H_0s)\n",
        "\n",
        "        # x - время, y - усиление\n",
        "        \n",
        "        int = integrate.nquad(lambda x, y: 1/2/np.pi/sigma_dt_X1_data/sigma_mu_X1_data/np.sqrt(1-rho**2) * \n",
        "                              \n",
        "                                np.exp( - 1/2/(1-rho**2) * ( (x - dt_X1_data)**2/sigma_dt_X1_data**2 - \n",
        "                                                            \n",
        "                                2*rho*(x - dt_X1_data)*(y - mu_X1_data)/sigma_dt_X1_data/sigma_mu_X1_data + \n",
        "                                \n",
        "                                (y - mu_X1_data)**2/sigma_mu_X1_data**2 ) ) * \n",
        "                              \n",
        "                                nonsym_gauss(x, (H_0_fid/H_0s[j])*dt_X1_model[i], \n",
        "                                             sigma_left_dt_X1_model[i], sigma_right_dt_X1_model[i]) *\n",
        "                              \n",
        "                                nonsym_gauss(y, mu_X1_model[i], \n",
        "                                             sigma_left_mu_X1_model[i], sigma_right_mu_X1_model[i]),\n",
        "                                \n",
        "                                [[0, 500], [0, 1]] )\n",
        "        print(names[i], j/len(H_0s))#, end='\\r')\n",
        "\n",
        "        #P_prom = np.append(P_final, P_H_0 * int[0])\n",
        "        PDFs[i][j] = P_H_0 * int[0]"
      ],
      "execution_count": 0,
      "outputs": [
        {
          "output_type": "stream",
          "text": [
            "Die-16 0.0\n",
            "Die-16 0.014084507042253521\n",
            "Die-16 0.028169014084507043\n",
            "Die-16 0.04225352112676056\n",
            "Die-16 0.056338028169014086\n",
            "Die-16 0.07042253521126761\n",
            "Die-16 0.08450704225352113\n",
            "Die-16 0.09859154929577464\n",
            "Die-16 0.11267605633802817\n",
            "Die-16 0.1267605633802817\n",
            "Die-16 0.14084507042253522\n",
            "Die-16 0.15492957746478872\n",
            "Die-16 0.16901408450704225\n",
            "Die-16 0.18309859154929578\n",
            "Die-16 0.19718309859154928\n",
            "Die-16 0.2112676056338028\n",
            "Die-16 0.22535211267605634\n",
            "Die-16 0.23943661971830985\n",
            "Die-16 0.2535211267605634\n",
            "Die-16 0.2676056338028169\n",
            "Die-16 0.28169014084507044\n",
            "Die-16 0.29577464788732394\n",
            "Die-16 0.30985915492957744\n",
            "Die-16 0.323943661971831\n",
            "Die-16 0.3380281690140845\n",
            "Die-16 0.352112676056338\n",
            "Die-16 0.36619718309859156\n",
            "Die-16 0.38028169014084506\n",
            "Die-16 0.39436619718309857\n",
            "Die-16 0.4084507042253521\n",
            "Die-16 0.4225352112676056\n",
            "Die-16 0.43661971830985913\n",
            "Die-16 0.4507042253521127\n",
            "Die-16 0.4647887323943662\n",
            "Die-16 0.4788732394366197\n",
            "Die-16 0.49295774647887325\n",
            "Die-16 0.5070422535211268\n",
            "Die-16 0.5211267605633803\n",
            "Die-16 0.5352112676056338\n",
            "Die-16 0.5492957746478874\n",
            "Die-16 0.5633802816901409\n",
            "Die-16 0.5774647887323944\n",
            "Die-16 0.5915492957746479\n",
            "Die-16 0.6056338028169014\n",
            "Die-16 0.6197183098591549\n",
            "Die-16 0.6338028169014085\n",
            "Die-16 0.647887323943662\n",
            "Die-16 0.6619718309859155\n",
            "Die-16 0.676056338028169\n",
            "Die-16 0.6901408450704225\n",
            "Die-16 0.704225352112676\n",
            "Die-16 0.7183098591549296\n",
            "Die-16 0.7323943661971831\n",
            "Die-16 0.7464788732394366\n",
            "Die-16 0.7605633802816901\n",
            "Die-16 0.7746478873239436\n",
            "Die-16 0.7887323943661971\n",
            "Die-16 0.8028169014084507\n",
            "Die-16 0.8169014084507042\n",
            "Die-16 0.8309859154929577\n",
            "Die-16 0.8450704225352113\n",
            "Die-16 0.8591549295774648\n",
            "Die-16 0.8732394366197183\n",
            "Die-16 0.8873239436619719\n",
            "Die-16 0.9014084507042254\n",
            "Die-16 0.9154929577464789\n",
            "Die-16 0.9295774647887324\n",
            "Die-16 0.9436619718309859\n",
            "Die-16 0.9577464788732394\n",
            "Die-16 0.971830985915493\n",
            "Die-16 0.9859154929577465\n",
            "Die-a 0.0\n",
            "Die-a 0.014084507042253521\n",
            "Die-a 0.028169014084507043\n",
            "Die-a 0.04225352112676056\n",
            "Die-a 0.056338028169014086\n",
            "Die-a 0.07042253521126761\n",
            "Die-a 0.08450704225352113\n",
            "Die-a 0.09859154929577464\n",
            "Die-a 0.11267605633802817\n",
            "Die-a 0.1267605633802817\n",
            "Die-a 0.14084507042253522\n",
            "Die-a 0.15492957746478872\n",
            "Die-a 0.16901408450704225\n",
            "Die-a 0.18309859154929578\n",
            "Die-a 0.19718309859154928\n",
            "Die-a 0.2112676056338028\n",
            "Die-a 0.22535211267605634\n",
            "Die-a 0.23943661971830985\n",
            "Die-a 0.2535211267605634\n",
            "Die-a 0.2676056338028169\n",
            "Die-a 0.28169014084507044\n",
            "Die-a 0.29577464788732394\n",
            "Die-a 0.30985915492957744\n",
            "Die-a 0.323943661971831\n",
            "Die-a 0.3380281690140845\n",
            "Die-a 0.352112676056338\n",
            "Die-a 0.36619718309859156\n",
            "Die-a 0.38028169014084506\n",
            "Die-a 0.39436619718309857\n",
            "Die-a 0.4084507042253521\n",
            "Die-a 0.4225352112676056\n",
            "Die-a 0.43661971830985913\n",
            "Die-a 0.4507042253521127\n",
            "Die-a 0.4647887323943662\n",
            "Die-a 0.4788732394366197\n",
            "Die-a 0.49295774647887325\n",
            "Die-a 0.5070422535211268\n",
            "Die-a 0.5211267605633803\n",
            "Die-a 0.5352112676056338\n",
            "Die-a 0.5492957746478874\n",
            "Die-a 0.5633802816901409\n",
            "Die-a 0.5774647887323944\n",
            "Die-a 0.5915492957746479\n",
            "Die-a 0.6056338028169014\n",
            "Die-a 0.6197183098591549\n",
            "Die-a 0.6338028169014085\n",
            "Die-a 0.647887323943662\n",
            "Die-a 0.6619718309859155\n",
            "Die-a 0.676056338028169\n",
            "Die-a 0.6901408450704225\n",
            "Die-a 0.704225352112676\n",
            "Die-a 0.7183098591549296\n",
            "Die-a 0.7323943661971831\n",
            "Die-a 0.7464788732394366\n",
            "Die-a 0.7605633802816901\n",
            "Die-a 0.7746478873239436\n",
            "Die-a 0.7887323943661971\n",
            "Die-a 0.8028169014084507\n",
            "Die-a 0.8169014084507042\n",
            "Die-a 0.8309859154929577\n",
            "Die-a 0.8450704225352113\n",
            "Die-a 0.8591549295774648\n",
            "Die-a 0.8732394366197183\n",
            "Die-a 0.8873239436619719\n",
            "Die-a 0.9014084507042254\n",
            "Die-a 0.9154929577464789\n",
            "Die-a 0.9295774647887324\n",
            "Die-a 0.9436619718309859\n",
            "Die-a 0.9577464788732394\n",
            "Die-a 0.971830985915493\n",
            "Die-a 0.9859154929577465\n",
            "Gri-g 0.0\n",
            "Gri-g 0.014084507042253521\n",
            "Gri-g 0.028169014084507043\n",
            "Gri-g 0.04225352112676056\n",
            "Gri-g 0.056338028169014086\n",
            "Gri-g 0.07042253521126761\n",
            "Gri-g 0.08450704225352113\n",
            "Gri-g 0.09859154929577464\n",
            "Gri-g 0.11267605633802817\n",
            "Gri-g 0.1267605633802817\n",
            "Gri-g 0.14084507042253522\n",
            "Gri-g 0.15492957746478872\n",
            "Gri-g 0.16901408450704225\n",
            "Gri-g 0.18309859154929578\n",
            "Gri-g 0.19718309859154928\n",
            "Gri-g 0.2112676056338028\n",
            "Gri-g 0.22535211267605634\n",
            "Gri-g 0.23943661971830985\n",
            "Gri-g 0.2535211267605634\n",
            "Gri-g 0.2676056338028169\n",
            "Gri-g 0.28169014084507044\n",
            "Gri-g 0.29577464788732394\n",
            "Gri-g 0.30985915492957744\n",
            "Gri-g 0.323943661971831\n",
            "Gri-g 0.3380281690140845\n",
            "Gri-g 0.352112676056338\n",
            "Gri-g 0.36619718309859156\n",
            "Gri-g 0.38028169014084506\n",
            "Gri-g 0.39436619718309857\n",
            "Gri-g 0.4084507042253521\n",
            "Gri-g 0.4225352112676056\n",
            "Gri-g 0.43661971830985913\n",
            "Gri-g 0.4507042253521127\n",
            "Gri-g 0.4647887323943662\n",
            "Gri-g 0.4788732394366197\n",
            "Gri-g 0.49295774647887325\n",
            "Gri-g 0.5070422535211268\n",
            "Gri-g 0.5211267605633803\n",
            "Gri-g 0.5352112676056338\n",
            "Gri-g 0.5492957746478874\n",
            "Gri-g 0.5633802816901409\n",
            "Gri-g 0.5774647887323944\n",
            "Gri-g 0.5915492957746479\n",
            "Gri-g 0.6056338028169014\n",
            "Gri-g 0.6197183098591549\n",
            "Gri-g 0.6338028169014085\n",
            "Gri-g 0.647887323943662\n",
            "Gri-g 0.6619718309859155\n",
            "Gri-g 0.676056338028169\n",
            "Gri-g 0.6901408450704225\n",
            "Gri-g 0.704225352112676\n",
            "Gri-g 0.7183098591549296\n",
            "Gri-g 0.7323943661971831\n",
            "Gri-g 0.7464788732394366\n",
            "Gri-g 0.7605633802816901\n",
            "Gri-g 0.7746478873239436\n",
            "Gri-g 0.7887323943661971\n",
            "Gri-g 0.8028169014084507\n",
            "Gri-g 0.8169014084507042\n",
            "Gri-g 0.8309859154929577\n",
            "Gri-g 0.8450704225352113\n",
            "Gri-g 0.8591549295774648\n",
            "Gri-g 0.8732394366197183\n",
            "Gri-g 0.8873239436619719\n",
            "Gri-g 0.9014084507042254\n",
            "Gri-g 0.9154929577464789\n",
            "Gri-g 0.9295774647887324\n",
            "Gri-g 0.9436619718309859\n",
            "Gri-g 0.9577464788732394\n",
            "Gri-g 0.971830985915493\n",
            "Gri-g 0.9859154929577465\n",
            "Ogu-g 0.0\n",
            "Ogu-g 0.014084507042253521\n",
            "Ogu-g 0.028169014084507043\n",
            "Ogu-g 0.04225352112676056\n",
            "Ogu-g 0.056338028169014086\n",
            "Ogu-g 0.07042253521126761\n",
            "Ogu-g 0.08450704225352113\n",
            "Ogu-g 0.09859154929577464\n",
            "Ogu-g 0.11267605633802817\n",
            "Ogu-g 0.1267605633802817\n",
            "Ogu-g 0.14084507042253522\n",
            "Ogu-g 0.15492957746478872\n",
            "Ogu-g 0.16901408450704225\n",
            "Ogu-g 0.18309859154929578\n",
            "Ogu-g 0.19718309859154928\n",
            "Ogu-g 0.2112676056338028\n",
            "Ogu-g 0.22535211267605634\n",
            "Ogu-g 0.23943661971830985\n",
            "Ogu-g 0.2535211267605634\n",
            "Ogu-g 0.2676056338028169\n",
            "Ogu-g 0.28169014084507044\n",
            "Ogu-g 0.29577464788732394\n",
            "Ogu-g 0.30985915492957744\n",
            "Ogu-g 0.323943661971831\n",
            "Ogu-g 0.3380281690140845\n",
            "Ogu-g 0.352112676056338\n",
            "Ogu-g 0.36619718309859156\n",
            "Ogu-g 0.38028169014084506\n",
            "Ogu-g 0.39436619718309857\n",
            "Ogu-g 0.4084507042253521\n",
            "Ogu-g 0.4225352112676056\n",
            "Ogu-g 0.43661971830985913\n",
            "Ogu-g 0.4507042253521127\n",
            "Ogu-g 0.4647887323943662\n",
            "Ogu-g 0.4788732394366197\n",
            "Ogu-g 0.49295774647887325\n",
            "Ogu-g 0.5070422535211268\n",
            "Ogu-g 0.5211267605633803\n",
            "Ogu-g 0.5352112676056338\n",
            "Ogu-g 0.5492957746478874\n",
            "Ogu-g 0.5633802816901409\n",
            "Ogu-g 0.5774647887323944\n",
            "Ogu-g 0.5915492957746479\n",
            "Ogu-g 0.6056338028169014\n",
            "Ogu-g 0.6197183098591549\n",
            "Ogu-g 0.6338028169014085\n",
            "Ogu-g 0.647887323943662\n",
            "Ogu-g 0.6619718309859155\n",
            "Ogu-g 0.676056338028169\n",
            "Ogu-g 0.6901408450704225\n",
            "Ogu-g 0.704225352112676\n",
            "Ogu-g 0.7183098591549296\n",
            "Ogu-g 0.7323943661971831\n",
            "Ogu-g 0.7464788732394366\n",
            "Ogu-g 0.7605633802816901\n",
            "Ogu-g 0.7746478873239436\n",
            "Ogu-g 0.7887323943661971\n",
            "Ogu-g 0.8028169014084507\n",
            "Ogu-g 0.8169014084507042\n",
            "Ogu-g 0.8309859154929577\n",
            "Ogu-g 0.8450704225352113\n",
            "Ogu-g 0.8591549295774648\n",
            "Ogu-g 0.8732394366197183\n",
            "Ogu-g 0.8873239436619719\n",
            "Ogu-g 0.9014084507042254\n",
            "Ogu-g 0.9154929577464789\n",
            "Ogu-g 0.9295774647887324\n",
            "Ogu-g 0.9436619718309859\n",
            "Ogu-g 0.9577464788732394\n",
            "Ogu-g 0.971830985915493\n",
            "Ogu-g 0.9859154929577465\n",
            "Ogu-a 0.0\n",
            "Ogu-a 0.014084507042253521\n",
            "Ogu-a 0.028169014084507043\n",
            "Ogu-a 0.04225352112676056\n",
            "Ogu-a 0.056338028169014086\n",
            "Ogu-a 0.07042253521126761\n",
            "Ogu-a 0.08450704225352113\n",
            "Ogu-a 0.09859154929577464\n",
            "Ogu-a 0.11267605633802817\n",
            "Ogu-a 0.1267605633802817\n",
            "Ogu-a 0.14084507042253522\n",
            "Ogu-a 0.15492957746478872\n",
            "Ogu-a 0.16901408450704225\n",
            "Ogu-a 0.18309859154929578\n",
            "Ogu-a 0.19718309859154928\n",
            "Ogu-a 0.2112676056338028\n",
            "Ogu-a 0.22535211267605634\n",
            "Ogu-a 0.23943661971830985\n",
            "Ogu-a 0.2535211267605634\n",
            "Ogu-a 0.2676056338028169\n",
            "Ogu-a 0.28169014084507044\n",
            "Ogu-a 0.29577464788732394\n",
            "Ogu-a 0.30985915492957744\n",
            "Ogu-a 0.323943661971831\n",
            "Ogu-a 0.3380281690140845\n",
            "Ogu-a 0.352112676056338\n",
            "Ogu-a 0.36619718309859156\n",
            "Ogu-a 0.38028169014084506\n",
            "Ogu-a 0.39436619718309857\n",
            "Ogu-a 0.4084507042253521\n",
            "Ogu-a 0.4225352112676056\n",
            "Ogu-a 0.43661971830985913\n",
            "Ogu-a 0.4507042253521127\n",
            "Ogu-a 0.4647887323943662\n",
            "Ogu-a 0.4788732394366197\n",
            "Ogu-a 0.49295774647887325\n",
            "Ogu-a 0.5070422535211268\n",
            "Ogu-a 0.5211267605633803\n",
            "Ogu-a 0.5352112676056338\n",
            "Ogu-a 0.5492957746478874\n",
            "Ogu-a 0.5633802816901409\n",
            "Ogu-a 0.5774647887323944\n",
            "Ogu-a 0.5915492957746479\n",
            "Ogu-a 0.6056338028169014\n",
            "Ogu-a 0.6197183098591549\n",
            "Ogu-a 0.6338028169014085\n",
            "Ogu-a 0.647887323943662\n",
            "Ogu-a 0.6619718309859155\n",
            "Ogu-a 0.676056338028169\n",
            "Ogu-a 0.6901408450704225\n",
            "Ogu-a 0.704225352112676\n",
            "Ogu-a 0.7183098591549296\n",
            "Ogu-a 0.7323943661971831\n",
            "Ogu-a 0.7464788732394366\n",
            "Ogu-a 0.7605633802816901\n",
            "Ogu-a 0.7746478873239436\n",
            "Ogu-a 0.7887323943661971\n",
            "Ogu-a 0.8028169014084507\n",
            "Ogu-a 0.8169014084507042\n",
            "Ogu-a 0.8309859154929577\n",
            "Ogu-a 0.8450704225352113\n",
            "Ogu-a 0.8591549295774648\n",
            "Ogu-a 0.8732394366197183\n",
            "Ogu-a 0.8873239436619719\n",
            "Ogu-a 0.9014084507042254\n",
            "Ogu-a 0.9154929577464789\n",
            "Ogu-a 0.9295774647887324\n",
            "Ogu-a 0.9436619718309859\n",
            "Ogu-a 0.9577464788732394\n",
            "Ogu-a 0.971830985915493\n",
            "Ogu-a 0.9859154929577465\n",
            "Sha-a 0.0\n",
            "Sha-a 0.014084507042253521\n",
            "Sha-a 0.028169014084507043\n",
            "Sha-a 0.04225352112676056\n",
            "Sha-a 0.056338028169014086\n",
            "Sha-a 0.07042253521126761\n",
            "Sha-a 0.08450704225352113\n",
            "Sha-a 0.09859154929577464\n",
            "Sha-a 0.11267605633802817\n",
            "Sha-a 0.1267605633802817\n",
            "Sha-a 0.14084507042253522\n",
            "Sha-a 0.15492957746478872\n",
            "Sha-a 0.16901408450704225\n",
            "Sha-a 0.18309859154929578\n",
            "Sha-a 0.19718309859154928\n",
            "Sha-a 0.2112676056338028\n",
            "Sha-a 0.22535211267605634\n",
            "Sha-a 0.23943661971830985\n",
            "Sha-a 0.2535211267605634\n",
            "Sha-a 0.2676056338028169\n",
            "Sha-a 0.28169014084507044\n",
            "Sha-a 0.29577464788732394\n",
            "Sha-a 0.30985915492957744\n",
            "Sha-a 0.323943661971831\n",
            "Sha-a 0.3380281690140845\n",
            "Sha-a 0.352112676056338\n",
            "Sha-a 0.36619718309859156\n",
            "Sha-a 0.38028169014084506\n",
            "Sha-a 0.39436619718309857\n",
            "Sha-a 0.4084507042253521\n",
            "Sha-a 0.4225352112676056\n",
            "Sha-a 0.43661971830985913\n",
            "Sha-a 0.4507042253521127\n",
            "Sha-a 0.4647887323943662\n",
            "Sha-a 0.4788732394366197\n",
            "Sha-a 0.49295774647887325\n",
            "Sha-a 0.5070422535211268\n",
            "Sha-a 0.5211267605633803\n",
            "Sha-a 0.5352112676056338\n",
            "Sha-a 0.5492957746478874\n",
            "Sha-a 0.5633802816901409\n",
            "Sha-a 0.5774647887323944\n",
            "Sha-a 0.5915492957746479\n",
            "Sha-a 0.6056338028169014\n",
            "Sha-a 0.6197183098591549\n",
            "Sha-a 0.6338028169014085\n",
            "Sha-a 0.647887323943662\n",
            "Sha-a 0.6619718309859155\n",
            "Sha-a 0.676056338028169\n",
            "Sha-a 0.6901408450704225\n",
            "Sha-a 0.704225352112676\n",
            "Sha-a 0.7183098591549296\n",
            "Sha-a 0.7323943661971831\n",
            "Sha-a 0.7464788732394366\n",
            "Sha-a 0.7605633802816901\n",
            "Sha-a 0.7746478873239436\n",
            "Sha-a 0.7887323943661971\n",
            "Sha-a 0.8028169014084507\n",
            "Sha-a 0.8169014084507042\n",
            "Sha-a 0.8309859154929577\n",
            "Sha-a 0.8450704225352113\n",
            "Sha-a 0.8591549295774648\n",
            "Sha-a 0.8732394366197183\n",
            "Sha-a 0.8873239436619719\n",
            "Sha-a 0.9014084507042254\n",
            "Sha-a 0.9154929577464789\n",
            "Sha-a 0.9295774647887324\n",
            "Sha-a 0.9436619718309859\n",
            "Sha-a 0.9577464788732394\n",
            "Sha-a 0.971830985915493\n",
            "Sha-a 0.9859154929577465\n",
            "Sha-g 0.0\n",
            "Sha-g 0.014084507042253521\n",
            "Sha-g 0.028169014084507043\n",
            "Sha-g 0.04225352112676056\n",
            "Sha-g 0.056338028169014086\n",
            "Sha-g 0.07042253521126761\n",
            "Sha-g 0.08450704225352113\n",
            "Sha-g 0.09859154929577464\n",
            "Sha-g 0.11267605633802817\n",
            "Sha-g 0.1267605633802817\n",
            "Sha-g 0.14084507042253522\n",
            "Sha-g 0.15492957746478872\n",
            "Sha-g 0.16901408450704225\n",
            "Sha-g 0.18309859154929578\n",
            "Sha-g 0.19718309859154928\n",
            "Sha-g 0.2112676056338028\n",
            "Sha-g 0.22535211267605634\n",
            "Sha-g 0.23943661971830985\n",
            "Sha-g 0.2535211267605634\n",
            "Sha-g 0.2676056338028169\n",
            "Sha-g 0.28169014084507044\n",
            "Sha-g 0.29577464788732394\n",
            "Sha-g 0.30985915492957744\n",
            "Sha-g 0.323943661971831\n",
            "Sha-g 0.3380281690140845\n",
            "Sha-g 0.352112676056338\n",
            "Sha-g 0.36619718309859156\n",
            "Sha-g 0.38028169014084506\n",
            "Sha-g 0.39436619718309857\n",
            "Sha-g 0.4084507042253521\n",
            "Sha-g 0.4225352112676056\n",
            "Sha-g 0.43661971830985913\n",
            "Sha-g 0.4507042253521127\n",
            "Sha-g 0.4647887323943662\n",
            "Sha-g 0.4788732394366197\n",
            "Sha-g 0.49295774647887325\n",
            "Sha-g 0.5070422535211268\n",
            "Sha-g 0.5211267605633803\n",
            "Sha-g 0.5352112676056338\n",
            "Sha-g 0.5492957746478874\n",
            "Sha-g 0.5633802816901409\n",
            "Sha-g 0.5774647887323944\n",
            "Sha-g 0.5915492957746479\n",
            "Sha-g 0.6056338028169014\n",
            "Sha-g 0.6197183098591549\n",
            "Sha-g 0.6338028169014085\n",
            "Sha-g 0.647887323943662\n",
            "Sha-g 0.6619718309859155\n",
            "Sha-g 0.676056338028169\n",
            "Sha-g 0.6901408450704225\n",
            "Sha-g 0.704225352112676\n",
            "Sha-g 0.7183098591549296\n",
            "Sha-g 0.7323943661971831\n",
            "Sha-g 0.7464788732394366\n",
            "Sha-g 0.7605633802816901\n",
            "Sha-g 0.7746478873239436\n",
            "Sha-g 0.7887323943661971\n",
            "Sha-g 0.8028169014084507\n",
            "Sha-g 0.8169014084507042\n",
            "Sha-g 0.8309859154929577\n",
            "Sha-g 0.8450704225352113\n",
            "Sha-g 0.8591549295774648\n",
            "Sha-g 0.8732394366197183\n",
            "Sha-g 0.8873239436619719\n",
            "Sha-g 0.9014084507042254\n",
            "Sha-g 0.9154929577464789\n",
            "Sha-g 0.9295774647887324\n",
            "Sha-g 0.9436619718309859\n",
            "Sha-g 0.9577464788732394\n",
            "Sha-g 0.971830985915493\n",
            "Sha-g 0.9859154929577465\n"
          ],
          "name": "stdout"
        }
      ]
    },
    {
      "cell_type": "code",
      "metadata": {
        "id": "hzu12fJktPx9",
        "colab_type": "code",
        "colab": {}
      },
      "source": [
        "import pandas as pd\n",
        "\n",
        "spisok = pd.DataFrame(PDFs).to_csv('vega-ferrero_PDFs.csv', index=False)\n",
        "\n",
        "from google.colab import files; files.download('vega-ferrero_PDFs.csv')\n",
        "#print(PDFs)\n",
        "\n",
        "#with open('pdfs.txt', 'w') as file:\n",
        "#    json.dump(list(PDFs), file)"
      ],
      "execution_count": 0,
      "outputs": []
    },
    {
      "cell_type": "code",
      "metadata": {
        "id": "MQ1UvgTnq3im",
        "colab_type": "code",
        "outputId": "c9b8132e-11f2-4c03-9c4b-ade70177eab7",
        "colab": {
          "base_uri": "https://localhost:8080/",
          "height": 328
        }
      },
      "source": [
        "data = pd.read_csv('vega-ferrero_PDFs.csv', sep=\"\\t\", header=None)\n",
        "data"
      ],
      "execution_count": 0,
      "outputs": [
        {
          "output_type": "execute_result",
          "data": {
            "text/html": [
              "<div>\n",
              "<style scoped>\n",
              "    .dataframe tbody tr th:only-of-type {\n",
              "        vertical-align: middle;\n",
              "    }\n",
              "\n",
              "    .dataframe tbody tr th {\n",
              "        vertical-align: top;\n",
              "    }\n",
              "\n",
              "    .dataframe thead th {\n",
              "        text-align: right;\n",
              "    }\n",
              "</style>\n",
              "<table border=\"1\" class=\"dataframe\">\n",
              "  <thead>\n",
              "    <tr style=\"text-align: right;\">\n",
              "      <th></th>\n",
              "      <th>0</th>\n",
              "    </tr>\n",
              "  </thead>\n",
              "  <tbody>\n",
              "    <tr>\n",
              "      <th>0</th>\n",
              "      <td>0,1,2,3,4,5,6,7,8,9,10,11,12,13,14,15,16,17,18...</td>\n",
              "    </tr>\n",
              "    <tr>\n",
              "      <th>1</th>\n",
              "      <td>7.611795058411976e-67,1.3269257806735574e-59,2...</td>\n",
              "    </tr>\n",
              "    <tr>\n",
              "      <th>2</th>\n",
              "      <td>8.666569305574038e-08,3.201163956866087e-07,9....</td>\n",
              "    </tr>\n",
              "    <tr>\n",
              "      <th>3</th>\n",
              "      <td>1.437846671273741e-45,3.4624933792441432e-40,1...</td>\n",
              "    </tr>\n",
              "    <tr>\n",
              "      <th>4</th>\n",
              "      <td>5.1772238704054996e-37,6.842216965503139e-33,2...</td>\n",
              "    </tr>\n",
              "    <tr>\n",
              "      <th>5</th>\n",
              "      <td>2.9367048231499133e-64,3.34987431407999e-57,4....</td>\n",
              "    </tr>\n",
              "    <tr>\n",
              "      <th>6</th>\n",
              "      <td>5.614527250289232e-34,2.5003874149089945e-29,2...</td>\n",
              "    </tr>\n",
              "    <tr>\n",
              "      <th>7</th>\n",
              "      <td>4.015228864137483e-28,9.994548017014183e-25,8....</td>\n",
              "    </tr>\n",
              "    <tr>\n",
              "      <th>8</th>\n",
              "      <td>0.0,0.0,0.0,0.0,0.0,0.0,0.0,0.0,0.0,0.0,0.0,0....</td>\n",
              "    </tr>\n",
              "  </tbody>\n",
              "</table>\n",
              "</div>"
            ],
            "text/plain": [
              "                                                   0\n",
              "0  0,1,2,3,4,5,6,7,8,9,10,11,12,13,14,15,16,17,18...\n",
              "1  7.611795058411976e-67,1.3269257806735574e-59,2...\n",
              "2  8.666569305574038e-08,3.201163956866087e-07,9....\n",
              "3  1.437846671273741e-45,3.4624933792441432e-40,1...\n",
              "4  5.1772238704054996e-37,6.842216965503139e-33,2...\n",
              "5  2.9367048231499133e-64,3.34987431407999e-57,4....\n",
              "6  5.614527250289232e-34,2.5003874149089945e-29,2...\n",
              "7  4.015228864137483e-28,9.994548017014183e-25,8....\n",
              "8  0.0,0.0,0.0,0.0,0.0,0.0,0.0,0.0,0.0,0.0,0.0,0...."
            ]
          },
          "metadata": {
            "tags": []
          },
          "execution_count": 49
        }
      ]
    },
    {
      "cell_type": "code",
      "metadata": {
        "id": "wdXLSXVOtPya",
        "colab_type": "code",
        "outputId": "ba427225-93ea-4833-8842-5d5e17dc911c",
        "colab": {
          "base_uri": "https://localhost:8080/",
          "height": 231
        }
      },
      "source": [
        "fig = plt.figure(figsize=(8,6))\n",
        "\n",
        "for i in range(0, len(names)):\n",
        "\n",
        "    plt.plot(H_0s, PDFs[i], label = names[i], color=colors[i])\n",
        "    plt.legend()\n",
        "    plt.xlabel('$H_0, km/s/Mpc$', fontsize=15)\n",
        "    plt.ylabel('P($H_0$|D)', fontsize=15)\n",
        "\n",
        "#plt.axvline(H_0s[np.argmax(PDFs[-1])], color='black', linestyle='--')    \n",
        "plt.grid()\n",
        "plt.show()"
      ],
      "execution_count": 0,
      "outputs": [
        {
          "output_type": "error",
          "ename": "NameError",
          "evalue": "ignored",
          "traceback": [
            "\u001b[0;31m---------------------------------------------------------------------------\u001b[0m",
            "\u001b[0;31mNameError\u001b[0m                                 Traceback (most recent call last)",
            "\u001b[0;32m<ipython-input-1-eb526751cbd6>\u001b[0m in \u001b[0;36m<module>\u001b[0;34m()\u001b[0m\n\u001b[0;32m----> 1\u001b[0;31m \u001b[0mfig\u001b[0m \u001b[0;34m=\u001b[0m \u001b[0mplt\u001b[0m\u001b[0;34m.\u001b[0m\u001b[0mfigure\u001b[0m\u001b[0;34m(\u001b[0m\u001b[0mfigsize\u001b[0m\u001b[0;34m=\u001b[0m\u001b[0;34m(\u001b[0m\u001b[0;36m8\u001b[0m\u001b[0;34m,\u001b[0m\u001b[0;36m6\u001b[0m\u001b[0;34m)\u001b[0m\u001b[0;34m)\u001b[0m\u001b[0;34m\u001b[0m\u001b[0;34m\u001b[0m\u001b[0m\n\u001b[0m\u001b[1;32m      2\u001b[0m \u001b[0;34m\u001b[0m\u001b[0m\n\u001b[1;32m      3\u001b[0m \u001b[0;32mfor\u001b[0m \u001b[0mi\u001b[0m \u001b[0;32min\u001b[0m \u001b[0mrange\u001b[0m\u001b[0;34m(\u001b[0m\u001b[0;36m0\u001b[0m\u001b[0;34m,\u001b[0m \u001b[0mlen\u001b[0m\u001b[0;34m(\u001b[0m\u001b[0mnames\u001b[0m\u001b[0;34m)\u001b[0m\u001b[0;34m)\u001b[0m\u001b[0;34m:\u001b[0m\u001b[0;34m\u001b[0m\u001b[0;34m\u001b[0m\u001b[0m\n\u001b[1;32m      4\u001b[0m \u001b[0;34m\u001b[0m\u001b[0m\n\u001b[1;32m      5\u001b[0m     \u001b[0mplt\u001b[0m\u001b[0;34m.\u001b[0m\u001b[0mplot\u001b[0m\u001b[0;34m(\u001b[0m\u001b[0mH_0s\u001b[0m\u001b[0;34m,\u001b[0m \u001b[0mPDFs\u001b[0m\u001b[0;34m[\u001b[0m\u001b[0mi\u001b[0m\u001b[0;34m]\u001b[0m\u001b[0;34m,\u001b[0m \u001b[0mlabel\u001b[0m \u001b[0;34m=\u001b[0m \u001b[0mnames\u001b[0m\u001b[0;34m[\u001b[0m\u001b[0mi\u001b[0m\u001b[0;34m]\u001b[0m\u001b[0;34m,\u001b[0m \u001b[0mcolor\u001b[0m\u001b[0;34m=\u001b[0m\u001b[0mcolors\u001b[0m\u001b[0;34m[\u001b[0m\u001b[0mi\u001b[0m\u001b[0;34m]\u001b[0m\u001b[0;34m)\u001b[0m\u001b[0;34m\u001b[0m\u001b[0;34m\u001b[0m\u001b[0m\n",
            "\u001b[0;31mNameError\u001b[0m: name 'plt' is not defined"
          ]
        }
      ]
    },
    {
      "cell_type": "markdown",
      "metadata": {
        "id": "XzpthZKxtPyy",
        "colab_type": "text"
      },
      "source": [
        "Посмотрим на графики из статьи (наблюдается несоответствие по амплитудам):"
      ]
    },
    {
      "cell_type": "markdown",
      "metadata": {
        "id": "dloLOk5MtPy_",
        "colab_type": "text"
      },
      "source": [
        "![vegaferrero.jpg](attachment:vegaferrero.jpg)"
      ]
    },
    {
      "cell_type": "markdown",
      "metadata": {
        "id": "BL7MqanHtPzK",
        "colab_type": "text"
      },
      "source": [
        "Определим функцию, которая возвращает индексы элементов, соответствующих границам интервала в 68%, вдоль горизонтальной оси:"
      ]
    },
    {
      "cell_type": "code",
      "metadata": {
        "id": "md9wqPiotPzS",
        "colab_type": "code",
        "colab": {}
      },
      "source": [
        "def f1sb(xs, distribution, percents, plot, Print): #find 1 sigma borders\n",
        "    \n",
        "    area = sum(distribution)*np.diff(xs)[0]\n",
        "    pdf = distribution/area\n",
        "    cdf = np.cumsum(pdf)*np.diff(H_0s)[0]\n",
        "    \n",
        "    leftb_perc = (1-percents)/2.\n",
        "    rightb_perc = 1-leftb_perc\n",
        "    \n",
        "    left_ind = np.argmin(np.abs(cdf - leftb_perc))\n",
        "    right_ind = np.argmin( np.abs(cdf - rightb_perc) )\n",
        "    middle_ind = np.argmin( np.abs(cdf - .5) )\n",
        "    \n",
        "    if plot == True:\n",
        "        \n",
        "        plt.plot(H_0s, cdf, 'r:')\n",
        "        \n",
        "        plt.axhline(leftb_perc,color='m')\n",
        "        plt.axhline(rightb_perc,color='m')\n",
        "\n",
        "        plt.axvline(H_0s[left_ind],color='g')\n",
        "        plt.axvline(H_0s[right_ind],color='g')\n",
        "        plt.axvline(H_0s[middle_ind],color='g')\n",
        "    \n",
        "    if Print == True:\n",
        "        print('Mean: H_0=', H_0s[middle_ind])\n",
        "        print('Left border: H_0=', H_0s[left_ind])\n",
        "        print('Right border: H_0=', H_0s[right_ind])\n",
        "        print('Left sigma =', H_0s[middle_ind] - H_0s[left_ind])\n",
        "        print('Right sigma =', H_0s[right_ind] - H_0s[middle_ind])\n",
        "\n",
        "    return H_0s[middle_ind], H_0s[middle_ind] - H_0s[left_ind], H_0s[right_ind] - H_0s[middle_ind]"
      ],
      "execution_count": 0,
      "outputs": []
    },
    {
      "cell_type": "markdown",
      "metadata": {
        "id": "qIGCVQFctPzw",
        "colab_type": "text"
      },
      "source": [
        "Отдельно перемножим и сложим получившиеся вероятности:"
      ]
    },
    {
      "cell_type": "code",
      "metadata": {
        "id": "pmldN-1dtPz2",
        "colab_type": "code",
        "colab": {}
      },
      "source": [
        "P_mult = np.ones(len(H_0s))\n",
        "P_sum = np.zeros(len(H_0s))\n",
        "\n",
        "for i in range(0, len(names)-2):\n",
        "    #print(P_mult)\n",
        "    P_mult = PDFs[i] * P_mult\n",
        "    P_sum = P_sum + PDFs[i]/(len(names)-1)\n",
        "\n",
        "P_mult_mean, sigma_P_mult_left, sigma_P_mult_right = f1sb(H_0s, P_mult, .68, plot=False, Print=False)\n",
        "\n",
        "P_sum_mean, sigma_P_sum_left, sigma_P_sum_right = f1sb(H_0s, P_sum, .68, plot=False, Print=False)"
      ],
      "execution_count": 0,
      "outputs": []
    },
    {
      "cell_type": "code",
      "metadata": {
        "id": "lvkBHiEFtP0S",
        "colab_type": "code",
        "outputId": "c673295a-435d-4b8e-f316-3c5a1bc89c21",
        "colab": {
          "base_uri": "https://localhost:8080/",
          "height": 823
        }
      },
      "source": [
        "print('For P_x(H_0|D):')\n",
        "print('H_0 =', P_mult_mean, '+', sigma_P_mult_right, '-', sigma_P_mult_left, '(program)')\n",
        "print('H_0 = 62 + 4 - 4 (Vega-Ferrero)')\n",
        "print()\n",
        "print('For P_+(H_0|D):')\n",
        "print('H_0 =', P_sum_mean, '+', sigma_P_sum_right, '-', sigma_P_sum_left, '(program)')\n",
        "print('H_0 = 64 + 9 - 11 (Vega-Ferrero)')\n",
        "\n",
        "fig = plt.figure(figsize=(8,6))\n",
        "\n",
        "plt.grid()\n",
        "plt.xlabel('$H_0, km/s/Mpc$', fontsize=15)\n",
        "plt.ylabel('P($H_0$|D)', fontsize=15)\n",
        "plt.title('Total posterior $P_x(H_0|D)$')\n",
        "\n",
        "plt.plot(H_0s, P_mult)#, label = '$P_х(H_0|D)$', linestyle='--')\n",
        "plt.scatter(P_mult_mean, 1.1*P_mult[np.argmax(P_mult)])\n",
        "plt.errorbar(P_mult_mean, 1.1*P_mult[np.argmax(P_mult)], 0, [[sigma_P_mult_left], [sigma_P_mult_right]], capsize=5)\n",
        "plt.show()\n",
        "\n",
        "plt.grid()\n",
        "plt.xlabel('$H_0, km/s/Mpc$', fontsize=15)\n",
        "plt.ylabel('P($H_0$|D)', fontsize=15)\n",
        "plt.title('Total posterior $P_+(H_0|D)$')\n",
        "\n",
        "plt.plot(H_0s, P_sum)#, label = '$P_+(H_0|D)$', linestyle='--')\n",
        "plt.scatter(P_sum_mean, 1.1*P_sum[np.argmax(P_sum)])\n",
        "plt.errorbar(P_sum_mean, 1.1*P_sum[np.argmax(P_sum)], 0, [[sigma_P_sum_left], [sigma_P_sum_right]], capsize=5)\n",
        "\n",
        "\n",
        "plt.show()"
      ],
      "execution_count": 0,
      "outputs": [
        {
          "output_type": "stream",
          "text": [
            "For P_x(H_0|D):\n",
            "H_0 = 65.0 + 3.0 - 2.0 (program)\n",
            "H_0 = 62 + 4 - 4 (Vega-Ferrero)\n",
            "\n",
            "For P_+(H_0|D):\n",
            "H_0 = 66.0 + 8.0 - 10.0 (program)\n",
            "H_0 = 64 + 9 - 11 (Vega-Ferrero)\n"
          ],
          "name": "stdout"
        },
        {
          "output_type": "display_data",
          "data": {
            "image/png": "[encoded data removed]",
            "text/plain": [
              "<Figure size 576x432 with 1 Axes>"
            ]
          },
          "metadata": {
            "tags": []
          }
        },
        {
          "output_type": "display_data",
          "data": {
            "image/png": "[encoded data removed]",
            "text/plain": [
              "<Figure size 432x288 with 1 Axes>"
            ]
          },
          "metadata": {
            "tags": []
          }
        }
      ]
    },
    {
      "cell_type": "code",
      "metadata": {
        "id": "9vMeP54ctP0m",
        "colab_type": "code",
        "colab": {}
      },
      "source": [
        ""
      ],
      "execution_count": 0,
      "outputs": []
    },
    {
      "cell_type": "code",
      "metadata": {
        "id": "TXj3w0Q7tP06",
        "colab_type": "code",
        "colab": {}
      },
      "source": [
        ""
      ],
      "execution_count": 0,
      "outputs": []
    },
    {
      "cell_type": "code",
      "metadata": {
        "id": "RTx9jo4_tP1Q",
        "colab_type": "code",
        "colab": {}
      },
      "source": [
        ""
      ],
      "execution_count": 0,
      "outputs": []
    },
    {
      "cell_type": "code",
      "metadata": {
        "id": "gWLPu1HYtP1i",
        "colab_type": "code",
        "colab": {}
      },
      "source": [
        ""
      ],
      "execution_count": 0,
      "outputs": []
    },
    {
      "cell_type": "code",
      "metadata": {
        "id": "NZCNENS5tP15",
        "colab_type": "code",
        "colab": {}
      },
      "source": [
        ""
      ],
      "execution_count": 0,
      "outputs": []
    },
    {
      "cell_type": "code",
      "metadata": {
        "id": "3FYn01rhtP2J",
        "colab_type": "code",
        "colab": {}
      },
      "source": [
        ""
      ],
      "execution_count": 0,
      "outputs": []
    },
    {
      "cell_type": "code",
      "metadata": {
        "id": "DgIRRMEptP2e",
        "colab_type": "code",
        "colab": {}
      },
      "source": [
        ""
      ],
      "execution_count": 0,
      "outputs": []
    }
  ]
}